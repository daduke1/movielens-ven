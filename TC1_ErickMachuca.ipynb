{
 "cells": [
  {
   "cell_type": "code",
   "execution_count": 1,
   "id": "initial_id",
   "metadata": {
    "collapsed": true,
    "ExecuteTime": {
     "end_time": "2024-08-21T02:55:47.615709Z",
     "start_time": "2024-08-21T02:55:47.037308Z"
    }
   },
   "outputs": [],
   "source": [
    "import pandas as pd\n",
    "import numpy as np"
   ]
  },
  {
   "cell_type": "code",
   "outputs": [],
   "source": [
    "df_ratings = pd.read_csv('./data/ml-latest-small/ratings.csv')\n",
    "df_movies = pd.read_csv('./data/ml-latest-small/movies.csv')\n",
    "df_tags = pd.read_csv('./data/ml-latest-small/tags.csv')"
   ],
   "metadata": {
    "collapsed": false,
    "ExecuteTime": {
     "end_time": "2024-08-21T03:00:11.675330Z",
     "start_time": "2024-08-21T03:00:11.620601Z"
    }
   },
   "id": "104d79e49269d1de",
   "execution_count": 7
  },
  {
   "cell_type": "code",
   "outputs": [],
   "source": [
    "lista_dfs = [df_ratings, df_movies, df_tags]"
   ],
   "metadata": {
    "collapsed": false,
    "ExecuteTime": {
     "end_time": "2024-08-21T03:01:02.889352Z",
     "start_time": "2024-08-21T03:01:02.878832Z"
    }
   },
   "id": "c9f85a805297b771",
   "execution_count": 9
  },
  {
   "cell_type": "code",
   "outputs": [
    {
     "name": "stdout",
     "output_type": "stream",
     "text": [
      "Dtypes de :userId         int64\n",
      "movieId        int64\n",
      "rating       float64\n",
      "timestamp      int64\n",
      "dtype: object\n",
      "Dtypes de :movieId     int64\n",
      "title      object\n",
      "genres     object\n",
      "dtype: object\n",
      "Dtypes de :userId        int64\n",
      "movieId       int64\n",
      "tag          object\n",
      "timestamp     int64\n",
      "dtype: object\n"
     ]
    }
   ],
   "source": [
    "for df in lista_dfs:\n",
    "    print(f'Dtypes de :{df.dtypes}')"
   ],
   "metadata": {
    "collapsed": false,
    "ExecuteTime": {
     "end_time": "2024-08-21T03:04:43.192635Z",
     "start_time": "2024-08-21T03:04:43.170569Z"
    }
   },
   "id": "b412841c6b47fdc2",
   "execution_count": 16
  },
  {
   "cell_type": "markdown",
   "source": [
    "#### ¿Cuáles fueron los géneros mejor rankeados en promedio en el año 2005?"
   ],
   "metadata": {
    "collapsed": false
   },
   "id": "87a9b2a5b26c4f32"
  },
  {
   "cell_type": "code",
   "outputs": [],
   "source": [],
   "metadata": {
    "collapsed": false
   },
   "id": "1614e936be3d69a7"
  },
  {
   "cell_type": "markdown",
   "source": [
    "#### ¿Cuál es el top 5 de películas mejor rankeadas en promedio?"
   ],
   "metadata": {
    "collapsed": false
   },
   "id": "20f8cc911807fd4a"
  },
  {
   "cell_type": "code",
   "outputs": [],
   "source": [],
   "metadata": {
    "collapsed": false
   },
   "id": "cf0580dd5f9b9661"
  },
  {
   "cell_type": "markdown",
   "source": [
    "#### ¿Cuál es el género con más revies?"
   ],
   "metadata": {
    "collapsed": false
   },
   "id": "437dd2b8d56e2a4d"
  },
  {
   "cell_type": "code",
   "outputs": [],
   "source": [],
   "metadata": {
    "collapsed": false
   },
   "id": "3459f5fceb6ed363"
  },
  {
   "cell_type": "markdown",
   "source": [
    "#### ¿Cuáles es el género por año con mejor rating entre el año 2000 y 2010?"
   ],
   "metadata": {
    "collapsed": false
   },
   "id": "94d443647a692087"
  },
  {
   "cell_type": "code",
   "outputs": [],
   "source": [],
   "metadata": {
    "collapsed": false
   },
   "id": "7cc6a2f646602d5f"
  },
  {
   "cell_type": "markdown",
   "source": [
    "#### ¿Cuál es el usuario con más críticas y cuál es su género favorito?"
   ],
   "metadata": {
    "collapsed": false
   },
   "id": "e4e30c8d2bcb11b0"
  },
  {
   "cell_type": "code",
   "outputs": [],
   "source": [],
   "metadata": {
    "collapsed": false
   },
   "id": "3cf8bb98cbfaefb6"
  }
 ],
 "metadata": {
  "kernelspec": {
   "display_name": "Python 3",
   "language": "python",
   "name": "python3"
  },
  "language_info": {
   "codemirror_mode": {
    "name": "ipython",
    "version": 2
   },
   "file_extension": ".py",
   "mimetype": "text/x-python",
   "name": "python",
   "nbconvert_exporter": "python",
   "pygments_lexer": "ipython2",
   "version": "2.7.6"
  }
 },
 "nbformat": 4,
 "nbformat_minor": 5
}
